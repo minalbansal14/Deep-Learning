{
 "cells": [
  {
   "cell_type": "markdown",
   "id": "c0cf3822-a1e5-4164-8d1e-e4d1517ad05d",
   "metadata": {},
   "source": [
    "### Perceptron function implementation\n",
    "\n",
    "![](Perceptron.png)\n",
    "\n",
    "Image source: Magnus Ekman NVIDIA Deep learning "
   ]
  },
  {
   "cell_type": "code",
   "execution_count": 3,
   "id": "7dcde65f-419c-4acf-b4e1-cb9d3dda70c9",
   "metadata": {},
   "outputs": [],
   "source": [
    "\n",
    "def compute_output(w,x):\n",
    "    z = 0\n",
    "    for i in range(len(w)):\n",
    "        z += x[i] * w[i]\n",
    "    if z < 0:\n",
    "        return -1\n",
    "    else:\n",
    "        return 1"
   ]
  },
  {
   "cell_type": "code",
   "execution_count": 4,
   "id": "e5a6745a-3543-4bfd-96b9-198c2a2511fe",
   "metadata": {},
   "outputs": [
    {
     "data": {
      "text/plain": [
       "1"
      ]
     },
     "execution_count": 4,
     "metadata": {},
     "output_type": "execute_result"
    }
   ],
   "source": [
    "compute_output([0.9, -0.6, -0.5], [1.0, -1.0, -1.0])"
   ]
  },
  {
   "cell_type": "code",
   "execution_count": 5,
   "id": "17cfdf47-4bb1-4289-a30c-acfcc0f843f6",
   "metadata": {},
   "outputs": [
    {
     "data": {
      "text/plain": [
       "-1"
      ]
     },
     "execution_count": 5,
     "metadata": {},
     "output_type": "execute_result"
    }
   ],
   "source": [
    "compute_output([0.4, 0.8, 0.8], [1.0, -1.0, -1.0])"
   ]
  },
  {
   "cell_type": "code",
   "execution_count": null,
   "id": "a2ceab20-bddc-479d-bd31-9b74b532745e",
   "metadata": {},
   "outputs": [],
   "source": []
  }
 ],
 "metadata": {
  "kernelspec": {
   "display_name": "Python 3 (ipykernel)",
   "language": "python",
   "name": "python3"
  },
  "language_info": {
   "codemirror_mode": {
    "name": "ipython",
    "version": 3
   },
   "file_extension": ".py",
   "mimetype": "text/x-python",
   "name": "python",
   "nbconvert_exporter": "python",
   "pygments_lexer": "ipython3",
   "version": "3.13.2"
  }
 },
 "nbformat": 4,
 "nbformat_minor": 5
}
